{
  "nbformat": 4,
  "nbformat_minor": 0,
  "metadata": {
    "colab": {
      "provenance": [],
      "authorship_tag": "ABX9TyMfTBx/ZhMdGgA9FX6tjl7o",
      "include_colab_link": true
    },
    "kernelspec": {
      "name": "ir",
      "display_name": "R"
    },
    "language_info": {
      "name": "R"
    }
  },
  "cells": [
    {
      "cell_type": "markdown",
      "metadata": {
        "id": "view-in-github",
        "colab_type": "text"
      },
      "source": [
        "<a href=\"https://colab.research.google.com/github/harleyyuanquinay/CCST-101-3A-AY-2025-2026/blob/main/Machinbe%20Learning%20%233.ipynb\" target=\"_parent\"><img src=\"https://colab.research.google.com/assets/colab-badge.svg\" alt=\"Open In Colab\"/></a>"
      ]
    },
    {
      "cell_type": "code",
      "source": [
        "# Study Habit Coach in R\n",
        "\n",
        "# Function to get validated input (yes/no)\n",
        "get_valid_input <- function(prompt_text, valid_options) {\n",
        "  repeat {\n",
        "    input <- tolower(trimws(readline(prompt_text)))\n",
        "    if (input %in% valid_options) {\n",
        "      return(input)\n",
        "    } else {\n",
        "      cat(\"Invalid input. Please enter one of:\", paste(valid_options, collapse = \", \"), \"\\n\")\n",
        "    }\n",
        "  }\n",
        "}\n",
        "\n",
        "study_habit_coach <- function() {\n",
        "  cat(\"🎓 Welcome to the Study Habit Coach (R Version)!\\n\")\n",
        "  cat(\"Answer the following questions to receive your study recommendations.\\n\\n\")\n",
        "\n",
        "  # Collect inputs from the user\n",
        "  study_hours <- as.numeric(readline(\"1. How many hours do you study per day? (Enter a number): \"))\n",
        "  sleep_hours <- as.numeric(readline(\"2. How many hours do you sleep per night? (Enter a number): \"))\n",
        "\n",
        "  distractions <- get_valid_input(\"3. Are you often distracted while studying? (yes/no): \", c(\"yes\", \"no\"))\n",
        "  environment <- get_valid_input(\"4. Is your study environment quiet and organized? (yes/no): \", c(\"yes\", \"no\"))\n",
        "  exam_soon <- get_valid_input(\"5. Do you have an exam coming up soon? (yes/no): \", c(\"yes\", \"no\"))\n",
        "\n",
        "  cat(\"\\n🧠 Advice Based on Your Inputs:\\n\\n\")\n",
        "\n",
        "  # Rule 1: Study Hours\n",
        "  if (study_hours < 2) {\n",
        "    cat(\"- You should consider increasing your daily study time to at least 2-3 hours.\\n\")\n",
        "  } else if (study_hours >= 2 && study_hours <= 4) {\n",
        "    cat(\"- Your study time is decent. Try to keep it consistent every day.\\n\")\n",
        "  } else {\n",
        "    cat(\"- Great! You're dedicating good time to studying. Make sure it's productive.\\n\")\n",
        "  }\n",
        "\n",
        "  # Rule 2: Sleep Hours\n",
        "  if (sleep_hours < 6) {\n",
        "    cat(\"- You're not sleeping enough. Try to get at least 7-8 hours for better focus.\\n\")\n",
        "  } else if (sleep_hours >= 6 && sleep_hours <= 8) {\n",
        "    cat(\"- Your sleep schedule is healthy. Keep it up!\\n\")\n",
        "  } else {\n",
        "    cat(\"- Too much sleep might be cutting into study time. Balance is key.\\n\")\n",
        "  }\n",
        "\n",
        "  # Rule 3: Distractions\n",
        "  if (distractions == \"yes\") {\n",
        "    cat(\"- Try using Pomodoro technique or turning off notifications to reduce distractions.\\n\")\n",
        "  } else {\n",
        "    cat(\"- Good job staying focused while studying!\\n\")\n",
        "  }\n",
        "\n",
        "  # Rule 4: Study Environment\n",
        "  if (environment == \"no\") {\n",
        "    cat(\"- A noisy or cluttered space can hurt concentration. Try studying in a quiet, clean area.\\n\")\n",
        "  } else {\n",
        "    cat(\"- A quiet and organized space supports effective studying!\\n\")\n",
        "  }\n",
        "\n",
        "  # Rule 5: Exam Coming Soon\n",
        "  if (exam_soon == \"yes\") {\n",
        "    cat(\"- Make a revision schedule, practice past papers, and focus on weak topics.\\n\")\n",
        "  } else {\n",
        "    cat(\"- Even without an upcoming exam, regular review keeps you prepared!\\n\")\n",
        "  }\n",
        "\n",
        "  cat(\"\\n✅ Thank you for using the Study Habit Coach. Keep learning and stay consistent!\\n\")\n",
        "}\n",
        "\n",
        "# Run the program\n",
        "study_habit_coach()\n"
      ],
      "metadata": {
        "colab": {
          "base_uri": "https://localhost:8080/"
        },
        "id": "g6EnHfRpbRFy",
        "outputId": "d0129a1d-05b8-40c1-ccfc-42705b9c3ae4"
      },
      "execution_count": 4,
      "outputs": [
        {
          "output_type": "stream",
          "name": "stdout",
          "text": [
            "1. How many hours do you study per day? (Enter a number): 6\n",
            "2. How many hours do you sleep per night? (Enter a number): 4\n",
            "3. Are you often distracted while studying? (yes/no): NO\n",
            "4. Is your study environment quiet and organized? (yes/no): NO\n",
            "5. Do you have an exam coming up soon? (yes/no): YES\n",
            "🎓 Welcome to the Study Habit Coach (R Version)!\n",
            "Answer the following questions to receive your study recommendations.\n",
            "\n",
            "\n",
            "🧠 Advice Based on Your Inputs:\n",
            "\n",
            "- Great! You're dedicating good time to studying. Make sure it's productive.\n",
            "- You're not sleeping enough. Try to get at least 7-8 hours for better focus.\n",
            "- Good job staying focused while studying!\n",
            "- A noisy or cluttered space can hurt concentration. Try studying in a quiet, clean area.\n",
            "- Make a revision schedule, practice past papers, and focus on weak topics.\n",
            "\n",
            "✅ Thank you for using the Study Habit Coach. Keep learning and stay consistent!\n"
          ]
        }
      ]
    },
    {
      "cell_type": "markdown",
      "source": [
        "The **Study Habit Coach** is an R-based rule-based expert system that provides students with study advice depending on their daily habits and routines. Upon execution, the program interacts with the user via a sequence of console prompts, which inquire about five essential questions pertaining to their study time, sleep time, level of distraction, quality of study environment, and whether they are facing an upcoming exam. For yes/no questions, input validation is built into the system to ensure valid processing. Based on what the user answers, the program applies a set of conditional rules using `if-else` statements as the inference engine for the system. Each rule checks for some conditions and offers suggestions based on them—such as suggesting extra study time if the user studies less than two hours a day, improvements in sleeping, or suggesting against the use of techniques such as the Pomodoro technique in order to reduce distractions. All the output is presented in straightforward, understandable language, making the feedback easy to comprehend. This expert system is simple, intuitive, and designed to accommodate good study habits. It can also be extended with additional rules or a graphically based interface with widgets like Shiny."
      ],
      "metadata": {
        "id": "8ONwTFqbb-sx"
      }
    }
  ]
}